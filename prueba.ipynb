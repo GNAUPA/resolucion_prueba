{
 "cells": [
  {
   "cell_type": "code",
   "execution_count": 1,
   "metadata": {},
   "outputs": [],
   "source": [
    "import pandas as pd\n",
    "import numpy as np\n",
    "import json"
   ]
  },
  {
   "cell_type": "code",
   "execution_count": 2,
   "metadata": {},
   "outputs": [],
   "source": [
    "dfinstituciones = pd.read_csv('data/2023-04-11T04-36-02-388Zinstituciones_educativas.csv')\n",
    "dfsunedu = pd.read_json('data/2023-04-11T04-36-09-824ZUniversidades.json')"
   ]
  },
  {
   "cell_type": "code",
   "execution_count": 3,
   "metadata": {},
   "outputs": [],
   "source": [
    "dfhomologadas_pre = dfinstituciones.copy()"
   ]
  },
  {
   "cell_type": "code",
   "execution_count": 4,
   "metadata": {},
   "outputs": [
    {
     "data": {
      "text/html": [
       "<div>\n",
       "<style scoped>\n",
       "    .dataframe tbody tr th:only-of-type {\n",
       "        vertical-align: middle;\n",
       "    }\n",
       "\n",
       "    .dataframe tbody tr th {\n",
       "        vertical-align: top;\n",
       "    }\n",
       "\n",
       "    .dataframe thead th {\n",
       "        text-align: right;\n",
       "    }\n",
       "</style>\n",
       "<table border=\"1\" class=\"dataframe\">\n",
       "  <thead>\n",
       "    <tr style=\"text-align: right;\">\n",
       "      <th></th>\n",
       "      <th>código INEI</th>\n",
       "      <th>Nombre</th>\n",
       "      <th>Siglas</th>\n",
       "    </tr>\n",
       "  </thead>\n",
       "  <tbody>\n",
       "    <tr>\n",
       "      <th>0</th>\n",
       "      <td>97</td>\n",
       "      <td>Asociación Civil Universidad de Ciencias y Hum...</td>\n",
       "      <td>UCH</td>\n",
       "    </tr>\n",
       "    <tr>\n",
       "      <th>1</th>\n",
       "      <td>505</td>\n",
       "      <td>Escuela de Posgrado Newman S.A.C.</td>\n",
       "      <td>EP Newman S.A.C</td>\n",
       "    </tr>\n",
       "  </tbody>\n",
       "</table>\n",
       "</div>"
      ],
      "text/plain": [
       "   código INEI                                            Nombre   \\\n",
       "0           97  Asociación Civil Universidad de Ciencias y Hum...   \n",
       "1          505                  Escuela de Posgrado Newman S.A.C.   \n",
       "\n",
       "           Siglas   \n",
       "0              UCH  \n",
       "1  EP Newman S.A.C  "
      ]
     },
     "execution_count": 4,
     "metadata": {},
     "output_type": "execute_result"
    }
   ],
   "source": [
    "dfsunedu.head(2)"
   ]
  },
  {
   "cell_type": "code",
   "execution_count": 5,
   "metadata": {},
   "outputs": [],
   "source": [
    "dfsinonimos = dfsunedu.loc[:,['Nombre ', 'Siglas ']]"
   ]
  },
  {
   "cell_type": "code",
   "execution_count": 6,
   "metadata": {},
   "outputs": [],
   "source": [
    "dfsinonimos[\"list_sinonimos\"] = \"\""
   ]
  },
  {
   "cell_type": "code",
   "execution_count": 7,
   "metadata": {},
   "outputs": [
    {
     "data": {
      "text/html": [
       "<div>\n",
       "<style scoped>\n",
       "    .dataframe tbody tr th:only-of-type {\n",
       "        vertical-align: middle;\n",
       "    }\n",
       "\n",
       "    .dataframe tbody tr th {\n",
       "        vertical-align: top;\n",
       "    }\n",
       "\n",
       "    .dataframe thead th {\n",
       "        text-align: right;\n",
       "    }\n",
       "</style>\n",
       "<table border=\"1\" class=\"dataframe\">\n",
       "  <thead>\n",
       "    <tr style=\"text-align: right;\">\n",
       "      <th></th>\n",
       "      <th>Nombre</th>\n",
       "      <th>Siglas</th>\n",
       "      <th>list_sinonimos</th>\n",
       "    </tr>\n",
       "  </thead>\n",
       "  <tbody>\n",
       "    <tr>\n",
       "      <th>0</th>\n",
       "      <td>Asociación Civil Universidad de Ciencias y Hum...</td>\n",
       "      <td>UCH</td>\n",
       "      <td></td>\n",
       "    </tr>\n",
       "    <tr>\n",
       "      <th>1</th>\n",
       "      <td>Escuela de Posgrado Newman S.A.C.</td>\n",
       "      <td>EP Newman S.A.C</td>\n",
       "      <td></td>\n",
       "    </tr>\n",
       "  </tbody>\n",
       "</table>\n",
       "</div>"
      ],
      "text/plain": [
       "                                             Nombre           Siglas   \\\n",
       "0  Asociación Civil Universidad de Ciencias y Hum...              UCH   \n",
       "1                  Escuela de Posgrado Newman S.A.C.  EP Newman S.A.C   \n",
       "\n",
       "  list_sinonimos  \n",
       "0                 \n",
       "1                 "
      ]
     },
     "execution_count": 7,
     "metadata": {},
     "output_type": "execute_result"
    }
   ],
   "source": [
    "dfsinonimos.head(2)"
   ]
  },
  {
   "cell_type": "code",
   "execution_count": 8,
   "metadata": {},
   "outputs": [
    {
     "data": {
      "text/html": [
       "<div>\n",
       "<style scoped>\n",
       "    .dataframe tbody tr th:only-of-type {\n",
       "        vertical-align: middle;\n",
       "    }\n",
       "\n",
       "    .dataframe tbody tr th {\n",
       "        vertical-align: top;\n",
       "    }\n",
       "\n",
       "    .dataframe thead th {\n",
       "        text-align: right;\n",
       "    }\n",
       "</style>\n",
       "<table border=\"1\" class=\"dataframe\">\n",
       "  <thead>\n",
       "    <tr style=\"text-align: right;\">\n",
       "      <th></th>\n",
       "      <th>candidateId</th>\n",
       "      <th>value</th>\n",
       "    </tr>\n",
       "  </thead>\n",
       "  <tbody>\n",
       "    <tr>\n",
       "      <th>0</th>\n",
       "      <td>630633fa1e599d0009d6dee0</td>\n",
       "      <td>Ucv</td>\n",
       "    </tr>\n",
       "    <tr>\n",
       "      <th>1</th>\n",
       "      <td>630633fa1e599d0009d6dee0</td>\n",
       "      <td>José Gálvez</td>\n",
       "    </tr>\n",
       "  </tbody>\n",
       "</table>\n",
       "</div>"
      ],
      "text/plain": [
       "                candidateId        value\n",
       "0  630633fa1e599d0009d6dee0          Ucv\n",
       "1  630633fa1e599d0009d6dee0  José Gálvez"
      ]
     },
     "execution_count": 8,
     "metadata": {},
     "output_type": "execute_result"
    }
   ],
   "source": [
    "dfhomologadas_pre.head(2)"
   ]
  },
  {
   "cell_type": "code",
   "execution_count": 9,
   "metadata": {},
   "outputs": [],
   "source": [
    "dfhomologadas_pre['value_upper'] = dfhomologadas_pre.loc[:,'value'].str.upper()"
   ]
  },
  {
   "cell_type": "code",
   "execution_count": 10,
   "metadata": {},
   "outputs": [
    {
     "data": {
      "text/html": [
       "<div>\n",
       "<style scoped>\n",
       "    .dataframe tbody tr th:only-of-type {\n",
       "        vertical-align: middle;\n",
       "    }\n",
       "\n",
       "    .dataframe tbody tr th {\n",
       "        vertical-align: top;\n",
       "    }\n",
       "\n",
       "    .dataframe thead th {\n",
       "        text-align: right;\n",
       "    }\n",
       "</style>\n",
       "<table border=\"1\" class=\"dataframe\">\n",
       "  <thead>\n",
       "    <tr style=\"text-align: right;\">\n",
       "      <th></th>\n",
       "      <th>candidateId</th>\n",
       "      <th>value</th>\n",
       "      <th>value_upper</th>\n",
       "    </tr>\n",
       "  </thead>\n",
       "  <tbody>\n",
       "    <tr>\n",
       "      <th>0</th>\n",
       "      <td>630633fa1e599d0009d6dee0</td>\n",
       "      <td>Ucv</td>\n",
       "      <td>UCV</td>\n",
       "    </tr>\n",
       "    <tr>\n",
       "      <th>1</th>\n",
       "      <td>630633fa1e599d0009d6dee0</td>\n",
       "      <td>José Gálvez</td>\n",
       "      <td>JOSÉ GÁLVEZ</td>\n",
       "    </tr>\n",
       "  </tbody>\n",
       "</table>\n",
       "</div>"
      ],
      "text/plain": [
       "                candidateId        value  value_upper\n",
       "0  630633fa1e599d0009d6dee0          Ucv          UCV\n",
       "1  630633fa1e599d0009d6dee0  José Gálvez  JOSÉ GÁLVEZ"
      ]
     },
     "execution_count": 10,
     "metadata": {},
     "output_type": "execute_result"
    }
   ],
   "source": [
    "dfhomologadas_pre.head(2)"
   ]
  },
  {
   "cell_type": "code",
   "execution_count": 11,
   "metadata": {},
   "outputs": [],
   "source": [
    "def formar_siglas(nombre_inst):\n",
    "    siglas = ''\n",
    "    list_nombres_parciales = nombre_inst.split(' ')\n",
    "    if len(list_nombres_parciales)> 1:\n",
    "        for nombre in list_nombres_parciales:\n",
    "            if len(nombre) > 2:\n",
    "                siglas = siglas+nombre[0]\n",
    "    else:\n",
    "        siglas = nombre_inst\n",
    "    return siglas"
   ]
  },
  {
   "cell_type": "code",
   "execution_count": 12,
   "metadata": {},
   "outputs": [],
   "source": [
    "dfhomologadas_pre['sigla_formada'] = dfhomologadas_pre['value_upper'].apply(lambda x:formar_siglas(x))"
   ]
  },
  {
   "cell_type": "code",
   "execution_count": 13,
   "metadata": {},
   "outputs": [
    {
     "data": {
      "text/html": [
       "<div>\n",
       "<style scoped>\n",
       "    .dataframe tbody tr th:only-of-type {\n",
       "        vertical-align: middle;\n",
       "    }\n",
       "\n",
       "    .dataframe tbody tr th {\n",
       "        vertical-align: top;\n",
       "    }\n",
       "\n",
       "    .dataframe thead th {\n",
       "        text-align: right;\n",
       "    }\n",
       "</style>\n",
       "<table border=\"1\" class=\"dataframe\">\n",
       "  <thead>\n",
       "    <tr style=\"text-align: right;\">\n",
       "      <th></th>\n",
       "      <th>candidateId</th>\n",
       "      <th>value</th>\n",
       "      <th>value_upper</th>\n",
       "      <th>sigla_formada</th>\n",
       "    </tr>\n",
       "  </thead>\n",
       "  <tbody>\n",
       "    <tr>\n",
       "      <th>0</th>\n",
       "      <td>630633fa1e599d0009d6dee0</td>\n",
       "      <td>Ucv</td>\n",
       "      <td>UCV</td>\n",
       "      <td>UCV</td>\n",
       "    </tr>\n",
       "    <tr>\n",
       "      <th>1</th>\n",
       "      <td>630633fa1e599d0009d6dee0</td>\n",
       "      <td>José Gálvez</td>\n",
       "      <td>JOSÉ GÁLVEZ</td>\n",
       "      <td>JG</td>\n",
       "    </tr>\n",
       "    <tr>\n",
       "      <th>2</th>\n",
       "      <td>63063bda29da5b00089fb224</td>\n",
       "      <td>Universidad Peruana De Ciencias Aplicadas - Upc</td>\n",
       "      <td>UNIVERSIDAD PERUANA DE CIENCIAS APLICADAS - UPC</td>\n",
       "      <td>UPCAU</td>\n",
       "    </tr>\n",
       "    <tr>\n",
       "      <th>3</th>\n",
       "      <td>63063bda29da5b00089fb224</td>\n",
       "      <td>Centro Peruano De  Estudios Bancarios - Cepeban</td>\n",
       "      <td>CENTRO PERUANO DE  ESTUDIOS BANCARIOS - CEPEBAN</td>\n",
       "      <td>CPEBC</td>\n",
       "    </tr>\n",
       "    <tr>\n",
       "      <th>4</th>\n",
       "      <td>630644da1e599d0009d6e2f4</td>\n",
       "      <td>Instituto De Formación Bancaria - Ifb</td>\n",
       "      <td>INSTITUTO DE FORMACIÓN BANCARIA - IFB</td>\n",
       "      <td>IFBI</td>\n",
       "    </tr>\n",
       "  </tbody>\n",
       "</table>\n",
       "</div>"
      ],
      "text/plain": [
       "                candidateId                                            value  \\\n",
       "0  630633fa1e599d0009d6dee0                                              Ucv   \n",
       "1  630633fa1e599d0009d6dee0                                      José Gálvez   \n",
       "2  63063bda29da5b00089fb224  Universidad Peruana De Ciencias Aplicadas - Upc   \n",
       "3  63063bda29da5b00089fb224  Centro Peruano De  Estudios Bancarios - Cepeban   \n",
       "4  630644da1e599d0009d6e2f4            Instituto De Formación Bancaria - Ifb   \n",
       "\n",
       "                                       value_upper sigla_formada  \n",
       "0                                              UCV           UCV  \n",
       "1                                      JOSÉ GÁLVEZ            JG  \n",
       "2  UNIVERSIDAD PERUANA DE CIENCIAS APLICADAS - UPC         UPCAU  \n",
       "3  CENTRO PERUANO DE  ESTUDIOS BANCARIOS - CEPEBAN         CPEBC  \n",
       "4            INSTITUTO DE FORMACIÓN BANCARIA - IFB          IFBI  "
      ]
     },
     "execution_count": 13,
     "metadata": {},
     "output_type": "execute_result"
    }
   ],
   "source": [
    "dfhomologadas_pre.head()"
   ]
  },
  {
   "cell_type": "code",
   "execution_count": 14,
   "metadata": {},
   "outputs": [],
   "source": [
    "def primer_filtro_homologacion(universidad_value):\n",
    "    homologacion = 0\n",
    "    list_palabras = universidad_value.split(' ')\n",
    "    for list_palabra in list_palabras:\n",
    "        if list_palabra in list_unique_homologados:\n",
    "            homologacion = 1\n",
    "    return homologacion"
   ]
  },
  {
   "cell_type": "code",
   "execution_count": 15,
   "metadata": {},
   "outputs": [],
   "source": [
    "list_unique_homologados = list(dfsinonimos.loc[:,\"Siglas \"].unique())\n",
    "def segundo_filtro_homologacion(universidad_sigla):\n",
    "    homologacion = 0\n",
    "    if universidad_sigla in list_unique_homologados:\n",
    "        homologacion = 1\n",
    "\n",
    "    return homologacion"
   ]
  },
  {
   "cell_type": "code",
   "execution_count": 16,
   "metadata": {},
   "outputs": [],
   "source": [
    "dfhomologadas_pre['universidad_homologada_1'] = dfhomologadas_pre['value_upper'].apply(lambda x:primer_filtro_homologacion(x))"
   ]
  },
  {
   "cell_type": "code",
   "execution_count": 17,
   "metadata": {},
   "outputs": [
    {
     "data": {
      "text/html": [
       "<div>\n",
       "<style scoped>\n",
       "    .dataframe tbody tr th:only-of-type {\n",
       "        vertical-align: middle;\n",
       "    }\n",
       "\n",
       "    .dataframe tbody tr th {\n",
       "        vertical-align: top;\n",
       "    }\n",
       "\n",
       "    .dataframe thead th {\n",
       "        text-align: right;\n",
       "    }\n",
       "</style>\n",
       "<table border=\"1\" class=\"dataframe\">\n",
       "  <thead>\n",
       "    <tr style=\"text-align: right;\">\n",
       "      <th></th>\n",
       "      <th>candidateId</th>\n",
       "      <th>value</th>\n",
       "      <th>value_upper</th>\n",
       "      <th>sigla_formada</th>\n",
       "      <th>universidad_homologada_1</th>\n",
       "    </tr>\n",
       "  </thead>\n",
       "  <tbody>\n",
       "    <tr>\n",
       "      <th>0</th>\n",
       "      <td>630633fa1e599d0009d6dee0</td>\n",
       "      <td>Ucv</td>\n",
       "      <td>UCV</td>\n",
       "      <td>UCV</td>\n",
       "      <td>1</td>\n",
       "    </tr>\n",
       "    <tr>\n",
       "      <th>1</th>\n",
       "      <td>630633fa1e599d0009d6dee0</td>\n",
       "      <td>José Gálvez</td>\n",
       "      <td>JOSÉ GÁLVEZ</td>\n",
       "      <td>JG</td>\n",
       "      <td>0</td>\n",
       "    </tr>\n",
       "  </tbody>\n",
       "</table>\n",
       "</div>"
      ],
      "text/plain": [
       "                candidateId        value  value_upper sigla_formada  \\\n",
       "0  630633fa1e599d0009d6dee0          Ucv          UCV           UCV   \n",
       "1  630633fa1e599d0009d6dee0  José Gálvez  JOSÉ GÁLVEZ            JG   \n",
       "\n",
       "   universidad_homologada_1  \n",
       "0                         1  \n",
       "1                         0  "
      ]
     },
     "execution_count": 17,
     "metadata": {},
     "output_type": "execute_result"
    }
   ],
   "source": [
    "dfhomologadas_pre.head(2)"
   ]
  },
  {
   "cell_type": "code",
   "execution_count": 18,
   "metadata": {},
   "outputs": [],
   "source": [
    "dfhomologadas_pre['universidad_homologada_2'] = dfhomologadas_pre['value_upper'].apply(lambda x:segundo_filtro_homologacion(x))"
   ]
  },
  {
   "cell_type": "code",
   "execution_count": 19,
   "metadata": {},
   "outputs": [
    {
     "data": {
      "text/html": [
       "<div>\n",
       "<style scoped>\n",
       "    .dataframe tbody tr th:only-of-type {\n",
       "        vertical-align: middle;\n",
       "    }\n",
       "\n",
       "    .dataframe tbody tr th {\n",
       "        vertical-align: top;\n",
       "    }\n",
       "\n",
       "    .dataframe thead th {\n",
       "        text-align: right;\n",
       "    }\n",
       "</style>\n",
       "<table border=\"1\" class=\"dataframe\">\n",
       "  <thead>\n",
       "    <tr style=\"text-align: right;\">\n",
       "      <th></th>\n",
       "      <th>candidateId</th>\n",
       "      <th>value</th>\n",
       "      <th>value_upper</th>\n",
       "      <th>sigla_formada</th>\n",
       "      <th>universidad_homologada_1</th>\n",
       "      <th>universidad_homologada_2</th>\n",
       "    </tr>\n",
       "  </thead>\n",
       "  <tbody>\n",
       "    <tr>\n",
       "      <th>0</th>\n",
       "      <td>630633fa1e599d0009d6dee0</td>\n",
       "      <td>Ucv</td>\n",
       "      <td>UCV</td>\n",
       "      <td>UCV</td>\n",
       "      <td>1</td>\n",
       "      <td>1</td>\n",
       "    </tr>\n",
       "    <tr>\n",
       "      <th>1</th>\n",
       "      <td>630633fa1e599d0009d6dee0</td>\n",
       "      <td>José Gálvez</td>\n",
       "      <td>JOSÉ GÁLVEZ</td>\n",
       "      <td>JG</td>\n",
       "      <td>0</td>\n",
       "      <td>0</td>\n",
       "    </tr>\n",
       "  </tbody>\n",
       "</table>\n",
       "</div>"
      ],
      "text/plain": [
       "                candidateId        value  value_upper sigla_formada  \\\n",
       "0  630633fa1e599d0009d6dee0          Ucv          UCV           UCV   \n",
       "1  630633fa1e599d0009d6dee0  José Gálvez  JOSÉ GÁLVEZ            JG   \n",
       "\n",
       "   universidad_homologada_1  universidad_homologada_2  \n",
       "0                         1                         1  \n",
       "1                         0                         0  "
      ]
     },
     "execution_count": 19,
     "metadata": {},
     "output_type": "execute_result"
    }
   ],
   "source": [
    "dfhomologadas_pre.head(2)"
   ]
  },
  {
   "cell_type": "code",
   "execution_count": 20,
   "metadata": {},
   "outputs": [],
   "source": [
    "dfhomologadas_pre['universidad homologada numero'] = dfhomologadas_pre['universidad_homologada_1'] + dfhomologadas_pre['universidad_homologada_2']"
   ]
  },
  {
   "cell_type": "code",
   "execution_count": 21,
   "metadata": {},
   "outputs": [],
   "source": [
    "dfhomologadas_pre['universidad homologada'] = np.where(dfhomologadas_pre['universidad homologada numero']>0, \"Si\", \"No\")"
   ]
  },
  {
   "cell_type": "code",
   "execution_count": 22,
   "metadata": {},
   "outputs": [
    {
     "data": {
      "text/html": [
       "<div>\n",
       "<style scoped>\n",
       "    .dataframe tbody tr th:only-of-type {\n",
       "        vertical-align: middle;\n",
       "    }\n",
       "\n",
       "    .dataframe tbody tr th {\n",
       "        vertical-align: top;\n",
       "    }\n",
       "\n",
       "    .dataframe thead th {\n",
       "        text-align: right;\n",
       "    }\n",
       "</style>\n",
       "<table border=\"1\" class=\"dataframe\">\n",
       "  <thead>\n",
       "    <tr style=\"text-align: right;\">\n",
       "      <th></th>\n",
       "      <th>candidateId</th>\n",
       "      <th>value</th>\n",
       "      <th>value_upper</th>\n",
       "      <th>sigla_formada</th>\n",
       "      <th>universidad_homologada_1</th>\n",
       "      <th>universidad_homologada_2</th>\n",
       "      <th>universidad homologada numero</th>\n",
       "      <th>universidad homologada</th>\n",
       "    </tr>\n",
       "  </thead>\n",
       "  <tbody>\n",
       "    <tr>\n",
       "      <th>0</th>\n",
       "      <td>630633fa1e599d0009d6dee0</td>\n",
       "      <td>Ucv</td>\n",
       "      <td>UCV</td>\n",
       "      <td>UCV</td>\n",
       "      <td>1</td>\n",
       "      <td>1</td>\n",
       "      <td>2</td>\n",
       "      <td>Si</td>\n",
       "    </tr>\n",
       "    <tr>\n",
       "      <th>1</th>\n",
       "      <td>630633fa1e599d0009d6dee0</td>\n",
       "      <td>José Gálvez</td>\n",
       "      <td>JOSÉ GÁLVEZ</td>\n",
       "      <td>JG</td>\n",
       "      <td>0</td>\n",
       "      <td>0</td>\n",
       "      <td>0</td>\n",
       "      <td>No</td>\n",
       "    </tr>\n",
       "    <tr>\n",
       "      <th>2</th>\n",
       "      <td>63063bda29da5b00089fb224</td>\n",
       "      <td>Universidad Peruana De Ciencias Aplicadas - Upc</td>\n",
       "      <td>UNIVERSIDAD PERUANA DE CIENCIAS APLICADAS - UPC</td>\n",
       "      <td>UPCAU</td>\n",
       "      <td>1</td>\n",
       "      <td>0</td>\n",
       "      <td>1</td>\n",
       "      <td>Si</td>\n",
       "    </tr>\n",
       "    <tr>\n",
       "      <th>3</th>\n",
       "      <td>63063bda29da5b00089fb224</td>\n",
       "      <td>Centro Peruano De  Estudios Bancarios - Cepeban</td>\n",
       "      <td>CENTRO PERUANO DE  ESTUDIOS BANCARIOS - CEPEBAN</td>\n",
       "      <td>CPEBC</td>\n",
       "      <td>0</td>\n",
       "      <td>0</td>\n",
       "      <td>0</td>\n",
       "      <td>No</td>\n",
       "    </tr>\n",
       "    <tr>\n",
       "      <th>4</th>\n",
       "      <td>630644da1e599d0009d6e2f4</td>\n",
       "      <td>Instituto De Formación Bancaria - Ifb</td>\n",
       "      <td>INSTITUTO DE FORMACIÓN BANCARIA - IFB</td>\n",
       "      <td>IFBI</td>\n",
       "      <td>0</td>\n",
       "      <td>0</td>\n",
       "      <td>0</td>\n",
       "      <td>No</td>\n",
       "    </tr>\n",
       "  </tbody>\n",
       "</table>\n",
       "</div>"
      ],
      "text/plain": [
       "                candidateId                                            value  \\\n",
       "0  630633fa1e599d0009d6dee0                                              Ucv   \n",
       "1  630633fa1e599d0009d6dee0                                      José Gálvez   \n",
       "2  63063bda29da5b00089fb224  Universidad Peruana De Ciencias Aplicadas - Upc   \n",
       "3  63063bda29da5b00089fb224  Centro Peruano De  Estudios Bancarios - Cepeban   \n",
       "4  630644da1e599d0009d6e2f4            Instituto De Formación Bancaria - Ifb   \n",
       "\n",
       "                                       value_upper sigla_formada  \\\n",
       "0                                              UCV           UCV   \n",
       "1                                      JOSÉ GÁLVEZ            JG   \n",
       "2  UNIVERSIDAD PERUANA DE CIENCIAS APLICADAS - UPC         UPCAU   \n",
       "3  CENTRO PERUANO DE  ESTUDIOS BANCARIOS - CEPEBAN         CPEBC   \n",
       "4            INSTITUTO DE FORMACIÓN BANCARIA - IFB          IFBI   \n",
       "\n",
       "   universidad_homologada_1  universidad_homologada_2  \\\n",
       "0                         1                         1   \n",
       "1                         0                         0   \n",
       "2                         1                         0   \n",
       "3                         0                         0   \n",
       "4                         0                         0   \n",
       "\n",
       "   universidad homologada numero universidad homologada  \n",
       "0                              2                     Si  \n",
       "1                              0                     No  \n",
       "2                              1                     Si  \n",
       "3                              0                     No  \n",
       "4                              0                     No  "
      ]
     },
     "execution_count": 22,
     "metadata": {},
     "output_type": "execute_result"
    }
   ],
   "source": [
    "dfhomologadas_pre.head()"
   ]
  },
  {
   "cell_type": "code",
   "execution_count": 23,
   "metadata": {},
   "outputs": [],
   "source": [
    "universidades_homologadas = dfhomologadas_pre.loc[:,['candidateId','value','universidad homologada']]\n",
    "universidades_homologadas.to_csv('data/universidades_homologadas.csv', index = False)"
   ]
  },
  {
   "cell_type": "code",
   "execution_count": 25,
   "metadata": {},
   "outputs": [],
   "source": [
    "lista_nombres_valores = list(dfhomologadas_pre.value_upper.unique())"
   ]
  },
  {
   "cell_type": "code",
   "execution_count": 26,
   "metadata": {},
   "outputs": [],
   "source": [
    "my_new_dict1 = {}\n",
    "\n",
    "for row1 in dfsinonimos.values:\n",
    "    list_temp = []\n",
    "    for row2 in lista_nombres_valores:  \n",
    "        if row1[1] in row2.split(' '):\n",
    "            list_temp.append(row2)\n",
    "            my_new_dict1[row1[1]] = list_temp"
   ]
  },
  {
   "cell_type": "code",
   "execution_count": 28,
   "metadata": {},
   "outputs": [],
   "source": [
    "my_new_dict2  = {}\n",
    "lista_siglas_formadas = list(dfhomologadas_pre.sigla_formada.unique())\n",
    "for key in my_new_dict1:\n",
    "    list_temp2 = []\n",
    "    for rows in dfhomologadas_pre.values:\n",
    "        if key in rows[3]:\n",
    "            list_temp2.append(rows[1])\n",
    "            my_new_dict2[key] = list_temp2"
   ]
  },
  {
   "cell_type": "code",
   "execution_count": 29,
   "metadata": {},
   "outputs": [
    {
     "data": {
      "text/plain": [
       "386"
      ]
     },
     "execution_count": 29,
     "metadata": {},
     "output_type": "execute_result"
    }
   ],
   "source": [
    "len(my_new_dict2.get('UCV'))"
   ]
  },
  {
   "cell_type": "code",
   "execution_count": 30,
   "metadata": {},
   "outputs": [
    {
     "data": {
      "text/plain": [
       "4"
      ]
     },
     "execution_count": 30,
     "metadata": {},
     "output_type": "execute_result"
    }
   ],
   "source": [
    "len(my_new_dict1.get('UCV'))"
   ]
  },
  {
   "cell_type": "code",
   "execution_count": 32,
   "metadata": {},
   "outputs": [],
   "source": [
    "for key, value in my_new_dict2.items():\n",
    "    for df in my_new_dict1.get(key):\n",
    "        value.append(df)"
   ]
  },
  {
   "cell_type": "code",
   "execution_count": 33,
   "metadata": {},
   "outputs": [],
   "source": [
    "for key, value in my_new_dict2.items():\n",
    "    my_new_dict2[key] = list(set(my_new_dict2[key]))"
   ]
  },
  {
   "cell_type": "code",
   "execution_count": 35,
   "metadata": {},
   "outputs": [],
   "source": [
    "dfsinonimos['list_sinonimos'] = dfsinonimos['Siglas '].map(my_new_dict2)"
   ]
  },
  {
   "cell_type": "code",
   "execution_count": 36,
   "metadata": {},
   "outputs": [
    {
     "data": {
      "text/html": [
       "<div>\n",
       "<style scoped>\n",
       "    .dataframe tbody tr th:only-of-type {\n",
       "        vertical-align: middle;\n",
       "    }\n",
       "\n",
       "    .dataframe tbody tr th {\n",
       "        vertical-align: top;\n",
       "    }\n",
       "\n",
       "    .dataframe thead th {\n",
       "        text-align: right;\n",
       "    }\n",
       "</style>\n",
       "<table border=\"1\" class=\"dataframe\">\n",
       "  <thead>\n",
       "    <tr style=\"text-align: right;\">\n",
       "      <th></th>\n",
       "      <th>Nombre</th>\n",
       "      <th>Siglas</th>\n",
       "      <th>list_sinonimos</th>\n",
       "    </tr>\n",
       "  </thead>\n",
       "  <tbody>\n",
       "    <tr>\n",
       "      <th>0</th>\n",
       "      <td>Asociación Civil Universidad de Ciencias y Hum...</td>\n",
       "      <td>UCH</td>\n",
       "      <td>[Uch Ciencias Y Humanidades, Universidad De Ci...</td>\n",
       "    </tr>\n",
       "    <tr>\n",
       "      <th>1</th>\n",
       "      <td>Escuela de Posgrado Newman S.A.C.</td>\n",
       "      <td>EP Newman S.A.C</td>\n",
       "      <td>NaN</td>\n",
       "    </tr>\n",
       "    <tr>\n",
       "      <th>2</th>\n",
       "      <td>Escuela de Postgrado Gerens S.A.</td>\n",
       "      <td>GERENS</td>\n",
       "      <td>NaN</td>\n",
       "    </tr>\n",
       "    <tr>\n",
       "      <th>3</th>\n",
       "      <td>Facultad de Teología Pontificia y Civil de Lima</td>\n",
       "      <td>FTPCL</td>\n",
       "      <td>NaN</td>\n",
       "    </tr>\n",
       "    <tr>\n",
       "      <th>4</th>\n",
       "      <td>Pontificia Universidad Católica del Perú</td>\n",
       "      <td>PUCP</td>\n",
       "      <td>[PUCP, IDIOMAS CATÓLICA PUCP, Pontificia Unive...</td>\n",
       "    </tr>\n",
       "  </tbody>\n",
       "</table>\n",
       "</div>"
      ],
      "text/plain": [
       "                                             Nombre           Siglas   \\\n",
       "0  Asociación Civil Universidad de Ciencias y Hum...              UCH   \n",
       "1                  Escuela de Posgrado Newman S.A.C.  EP Newman S.A.C   \n",
       "2                   Escuela de Postgrado Gerens S.A.           GERENS   \n",
       "3    Facultad de Teología Pontificia y Civil de Lima            FTPCL   \n",
       "4           Pontificia Universidad Católica del Perú             PUCP   \n",
       "\n",
       "                                      list_sinonimos  \n",
       "0  [Uch Ciencias Y Humanidades, Universidad De Ci...  \n",
       "1                                                NaN  \n",
       "2                                                NaN  \n",
       "3                                                NaN  \n",
       "4  [PUCP, IDIOMAS CATÓLICA PUCP, Pontificia Unive...  "
      ]
     },
     "execution_count": 36,
     "metadata": {},
     "output_type": "execute_result"
    }
   ],
   "source": [
    "dfsinonimos.head() "
   ]
  },
  {
   "cell_type": "code",
   "execution_count": 37,
   "metadata": {},
   "outputs": [],
   "source": [
    "dfsinonimos_final = dfsinonimos.loc[dfsinonimos['list_sinonimos'].notnull()]"
   ]
  },
  {
   "cell_type": "code",
   "execution_count": 41,
   "metadata": {},
   "outputs": [],
   "source": [
    "dfsinonimos_final.loc[:,['Nombre ', 'list_sinonimos']].to_json('data/universidad_sinonimos.json')"
   ]
  },
  {
   "cell_type": "code",
   "execution_count": null,
   "metadata": {},
   "outputs": [],
   "source": []
  }
 ],
 "metadata": {
  "kernelspec": {
   "display_name": "base",
   "language": "python",
   "name": "python3"
  },
  "language_info": {
   "codemirror_mode": {
    "name": "ipython",
    "version": 3
   },
   "file_extension": ".py",
   "mimetype": "text/x-python",
   "name": "python",
   "nbconvert_exporter": "python",
   "pygments_lexer": "ipython3",
   "version": "3.8.5"
  },
  "orig_nbformat": 4
 },
 "nbformat": 4,
 "nbformat_minor": 2
}
